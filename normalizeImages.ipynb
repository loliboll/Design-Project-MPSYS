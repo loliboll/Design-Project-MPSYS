{
 "cells": [
  {
   "cell_type": "code",
   "execution_count": 11,
   "metadata": {},
   "outputs": [
    {
     "name": "stdout",
     "output_type": "stream",
     "text": [
      "[0.39697323 0.39889333 0.40299361]\n",
      "[0.19536938 0.20292367 0.21487191]\n"
     ]
    }
   ],
   "source": [
    "# calculate mean and std deviation\n",
    "\n",
    "from pathlib import Path\n",
    "import numpy as np\n",
    "import cv2\n",
    "\n",
    "imageFilesDir = Path(r\"C:\\Users\\felix\\Design-Project-MPSYS\\ImagesFolder\")\n",
    "files = list(imageFilesDir.rglob('*.jpg'))\n",
    "files = files + list(imageFilesDir.rglob('*.png'))\n",
    "# Since the std can't be calculated by simply finding it for each image and averaging like  \n",
    "# the mean can be, to get the std we first calculate the overall mean in a first run then  \n",
    "# run it again to get the std.\n",
    "\n",
    "mean = np.array([0.,0.,0.])\n",
    "stdTemp = np.array([0.,0.,0.])\n",
    "std = np.array([0.,0.,0.])\n",
    "\n",
    "numSamples = len(files)\n",
    "\n",
    "for i in range(numSamples):\n",
    "    im = cv2.imread(str(files[i]))\n",
    "    im = cv2.cvtColor(im, cv2.COLOR_BGR2RGB)\n",
    "    im = im.astype(float) / 255.\n",
    "    \n",
    "    for j in range(3):\n",
    "        mean[j] += np.mean(im[:,:,j])\n",
    "\n",
    "mean = (mean/numSamples)\n",
    "\n",
    "for i in range(numSamples):\n",
    "    im = cv2.imread(str(files[i]))\n",
    "    im = cv2.cvtColor(im, cv2.COLOR_BGR2RGB)\n",
    "    im = im.astype(float) / 255.\n",
    "    for j in range(3):\n",
    "        stdTemp[j] += ((im[:,:,j] - mean[j])**2).sum()/(im.shape[0]*im.shape[1])\n",
    "\n",
    "std = np.sqrt(stdTemp/numSamples)\n",
    "\n",
    "print(mean)\n",
    "print(std)"
   ]
  },
  {
   "cell_type": "code",
   "execution_count": 12,
   "metadata": {},
   "outputs": [
    {
     "name": "stdout",
     "output_type": "stream",
     "text": [
      "401\n"
     ]
    }
   ],
   "source": [
    "print(numSamples)"
   ]
  },
  {
   "cell_type": "code",
   "execution_count": null,
   "metadata": {},
   "outputs": [],
   "source": []
  },
  {
   "cell_type": "code",
   "execution_count": null,
   "metadata": {},
   "outputs": [],
   "source": []
  }
 ],
 "metadata": {
  "kernelspec": {
   "display_name": "dml",
   "language": "python",
   "name": "python3"
  },
  "language_info": {
   "codemirror_mode": {
    "name": "ipython",
    "version": 3
   },
   "file_extension": ".py",
   "mimetype": "text/x-python",
   "name": "python",
   "nbconvert_exporter": "python",
   "pygments_lexer": "ipython3",
   "version": "3.9.15"
  },
  "orig_nbformat": 4,
  "vscode": {
   "interpreter": {
    "hash": "176a443a2abe5d5f863f754c72c8a51fa26b4aea701ac8c56e199c55584fb740"
   }
  }
 },
 "nbformat": 4,
 "nbformat_minor": 2
}
