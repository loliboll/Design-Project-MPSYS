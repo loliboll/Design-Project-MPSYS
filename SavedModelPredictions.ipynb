{
 "cells": [
  {
   "cell_type": "code",
   "execution_count": 1,
   "id": "082c001c",
   "metadata": {
    "scrolled": false
   },
   "outputs": [],
   "source": [
    "from tensorflow import keras\n",
    "import os\n",
    "import keras_segmentation.pretrained\n",
    "from keras_segmentation.pretrained import pspnet_101_cityscapes\n",
    "from keras_segmentation.models.pspnet import pspnet_101\n",
    "\n",
    "new_model = pspnet_101(  n_classes=7)\n",
    "new_model.load_weights('trained_model2.hdf5')\n"
   ]
  },
  {
   "cell_type": "code",
   "execution_count": 2,
   "id": "5d7bf24e",
   "metadata": {},
   "outputs": [],
   "source": [
    "import os\n",
    "import cv2\n",
    "import matplotlib.pyplot as plt\n",
    "\n",
    "# Gör en mapp med alla bilder som ska annoteras, döp den till \"imageData/\" \n",
    "# Gör en till mapp där de annoterade bilderna ska hamna, döp den till \"imageData_annotated/\"\n",
    "# Båda mapparna ska ligga i GitHub mappen \"Design-Project-MPSYS\"\n",
    "for filename in os.listdir(\"imageData/\"): \n",
    "    out = new_model.predict_segmentation(\n",
    "        inp=\"imageData/\"+filename,\n",
    "        out_fname=\"imageData_annotated/\"+filename,\n",
    "        overlay_img = True,\n",
    "        class_names = ['Background','Dry','Loose_snow','Packed_snow','Tracks_snow','Water','Wet'],\n",
    "        show_legends = True,\n",
    "        colors=[(0, 0, 0), (55, 250, 250), (209, 240, 170), (255, 221, 51), (183, 50, 250), (245, 61, 184), (245, 61, 61)]\n",
    "    )\n",
    "    img1 = cv2.imread(\"imageData/\"+filename)\n",
    "    img2 = cv2.imread(\"imageData_annotated/\"+filename)\n",
    "\n",
    "    fig, ax = plt.subplots(1, 2, figsize=(18, 18))\n",
    "    ax[0].imshow(cv2.cvtColor(img1, cv2.COLOR_RGB2BGR))\n",
    "    ax[1].imshow(cv2.cvtColor(img2, cv2.COLOR_RGB2BGR))\n",
    "    ax[1].set_title(str(filename))\n",
    "    [axi.set_axis_off() for axi in ax.ravel()];"
   ]
  }
 ],
 "metadata": {
  "kernelspec": {
   "display_name": "Python 3.9.15 ('tf-keras-gpu')",
   "language": "python",
   "name": "python3"
  },
  "language_info": {
   "codemirror_mode": {
    "name": "ipython",
    "version": 3
   },
   "file_extension": ".py",
   "mimetype": "text/x-python",
   "name": "python",
   "nbconvert_exporter": "python",
   "pygments_lexer": "ipython3",
   "version": "3.9.15"
  },
  "vscode": {
   "interpreter": {
    "hash": "334fc37056cd6a6f26974952af229a3abc34c2cd7f4396bb8e980c74e5c56039"
   }
  }
 },
 "nbformat": 4,
 "nbformat_minor": 5
}
