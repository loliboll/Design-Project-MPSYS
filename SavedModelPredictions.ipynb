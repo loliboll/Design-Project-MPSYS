{
 "cells": [
  {
   "cell_type": "code",
   "execution_count": 1,
   "id": "082c001c",
   "metadata": {
    "scrolled": false
   },
   "outputs": [],
   "source": [
    "from tensorflow import keras\n",
    "import os\n",
    "import keras_segmentation.pretrained\n",
    "from keras_segmentation.pretrained import pspnet_101_cityscapes\n",
    "from keras_segmentation.models.pspnet import pspnet_101\n",
    "\n",
    "new_model = pspnet_101(  n_classes=7)\n",
    "new_model.load_weights('weights.hdf5')\n"
   ]
  },
  {
   "cell_type": "code",
   "execution_count": 1,
   "id": "5d7bf24e",
   "metadata": {},
   "outputs": [
    {
     "ename": "NameError",
     "evalue": "name 'new_model' is not defined",
     "output_type": "error",
     "traceback": [
      "\u001b[1;31m---------------------------------------------------------------------------\u001b[0m",
      "\u001b[1;31mNameError\u001b[0m                                 Traceback (most recent call last)",
      "Cell \u001b[1;32mIn [1], line 9\u001b[0m\n\u001b[0;32m      5\u001b[0m \u001b[39m# Gör en mapp med alla bilder som ska annoteras, döp den till \"imageData/\" \u001b[39;00m\n\u001b[0;32m      6\u001b[0m \u001b[39m# Gör en till mapp där de annoterade bilderna ska hamna, döp den till \"imageData_annotated/\"\u001b[39;00m\n\u001b[0;32m      7\u001b[0m \u001b[39m# Båda mapparna ska ligga i GitHub mappen \"Design-Project-MPSYS\"\u001b[39;00m\n\u001b[0;32m      8\u001b[0m \u001b[39mfor\u001b[39;00m filename \u001b[39min\u001b[39;00m os\u001b[39m.\u001b[39mlistdir(\u001b[39m\"\u001b[39m\u001b[39mimageData/\u001b[39m\u001b[39m\"\u001b[39m): \n\u001b[1;32m----> 9\u001b[0m     out \u001b[39m=\u001b[39m new_model\u001b[39m.\u001b[39mpredict_segmentation(\n\u001b[0;32m     10\u001b[0m         inp\u001b[39m=\u001b[39m\u001b[39m\"\u001b[39m\u001b[39mimageData/\u001b[39m\u001b[39m\"\u001b[39m\u001b[39m+\u001b[39mfilename,\n\u001b[0;32m     11\u001b[0m         out_fname\u001b[39m=\u001b[39m\u001b[39m\"\u001b[39m\u001b[39mimageData_annotated/\u001b[39m\u001b[39m\"\u001b[39m\u001b[39m+\u001b[39mfilename,\n\u001b[0;32m     12\u001b[0m         overlay_img \u001b[39m=\u001b[39m \u001b[39mTrue\u001b[39;00m,\n\u001b[0;32m     13\u001b[0m         class_names \u001b[39m=\u001b[39m [\u001b[39m'\u001b[39m\u001b[39mBackground\u001b[39m\u001b[39m'\u001b[39m,\u001b[39m'\u001b[39m\u001b[39mDry\u001b[39m\u001b[39m'\u001b[39m,\u001b[39m'\u001b[39m\u001b[39mLoose_snow\u001b[39m\u001b[39m'\u001b[39m,\u001b[39m'\u001b[39m\u001b[39mPacked_snow\u001b[39m\u001b[39m'\u001b[39m,\u001b[39m'\u001b[39m\u001b[39mTracks_snow\u001b[39m\u001b[39m'\u001b[39m,\u001b[39m'\u001b[39m\u001b[39mWater\u001b[39m\u001b[39m'\u001b[39m,\u001b[39m'\u001b[39m\u001b[39mWet\u001b[39m\u001b[39m'\u001b[39m],\n\u001b[0;32m     14\u001b[0m         show_legends \u001b[39m=\u001b[39m \u001b[39mTrue\u001b[39;00m,\n\u001b[0;32m     15\u001b[0m         colors\u001b[39m=\u001b[39m[(\u001b[39m0\u001b[39m, \u001b[39m0\u001b[39m, \u001b[39m0\u001b[39m), (\u001b[39m55\u001b[39m, \u001b[39m250\u001b[39m, \u001b[39m250\u001b[39m), (\u001b[39m209\u001b[39m, \u001b[39m240\u001b[39m, \u001b[39m170\u001b[39m), (\u001b[39m255\u001b[39m, \u001b[39m221\u001b[39m, \u001b[39m51\u001b[39m), (\u001b[39m183\u001b[39m, \u001b[39m50\u001b[39m, \u001b[39m250\u001b[39m), (\u001b[39m245\u001b[39m, \u001b[39m61\u001b[39m, \u001b[39m184\u001b[39m), (\u001b[39m245\u001b[39m, \u001b[39m61\u001b[39m, \u001b[39m61\u001b[39m)]\n\u001b[0;32m     16\u001b[0m     )\n\u001b[0;32m     17\u001b[0m     img1 \u001b[39m=\u001b[39m cv2\u001b[39m.\u001b[39mimread(\u001b[39m\"\u001b[39m\u001b[39mimageData/\u001b[39m\u001b[39m\"\u001b[39m\u001b[39m+\u001b[39mfilename)\n\u001b[0;32m     18\u001b[0m     img2 \u001b[39m=\u001b[39m cv2\u001b[39m.\u001b[39mimread(\u001b[39m\"\u001b[39m\u001b[39mimageData_annotated/\u001b[39m\u001b[39m\"\u001b[39m\u001b[39m+\u001b[39mfilename)\n",
      "\u001b[1;31mNameError\u001b[0m: name 'new_model' is not defined"
     ]
    }
   ],
   "source": [
    "import os\n",
    "import cv2\n",
    "import matplotlib.pyplot as plt\n",
    "\n",
    "# Gör en mapp med alla bilder som ska annoteras, döp den till \"imageData/\" \n",
    "# Gör en till mapp där de annoterade bilderna ska hamna, döp den till \"imageData_annotated/\"\n",
    "# Båda mapparna ska ligga i GitHub mappen \"Design-Project-MPSYS\"\n",
    "for filename in os.listdir(\"imageData/\"): \n",
    "    out = new_model.predict_segmentation(\n",
    "        inp=\"imageData/\"+filename,\n",
    "        out_fname=\"imageData_annotated/\"+filename,\n",
    "        overlay_img = True,\n",
    "        class_names = ['Background','Dry','Loose_snow','Packed_snow','Tracks_snow','Water','Wet'],\n",
    "        show_legends = True,\n",
    "        colors=[(0, 0, 0), (55, 250, 250), (209, 240, 170), (255, 221, 51), (183, 50, 250), (245, 61, 184), (245, 61, 61)]\n",
    "    )\n",
    "    img1 = cv2.imread(\"imageData/\"+filename)\n",
    "    img2 = cv2.imread(\"imageData_annotated/\"+filename)\n",
    "\n",
    "    fig, ax = plt.subplots(1, 2, figsize=(18, 18))\n",
    "    ax[0].imshow(cv2.cvtColor(img1, cv2.COLOR_RGB2BGR))\n",
    "    ax[1].imshow(cv2.cvtColor(img2, cv2.COLOR_RGB2BGR))\n",
    "    ax[1].set_title(str(filename))\n",
    "    [axi.set_axis_off() for axi in ax.ravel()];"
   ]
  }
 ],
 "metadata": {
  "kernelspec": {
   "display_name": "Python 3.9.15 ('tf-keras-gpu')",
   "language": "python",
   "name": "python3"
  },
  "language_info": {
   "codemirror_mode": {
    "name": "ipython",
    "version": 3
   },
   "file_extension": ".py",
   "mimetype": "text/x-python",
   "name": "python",
   "nbconvert_exporter": "python",
   "pygments_lexer": "ipython3",
   "version": "3.9.15 (main, Nov 24 2022, 14:39:17) [MSC v.1916 64 bit (AMD64)]"
  },
  "vscode": {
   "interpreter": {
    "hash": "334fc37056cd6a6f26974952af229a3abc34c2cd7f4396bb8e980c74e5c56039"
   }
  }
 },
 "nbformat": 4,
 "nbformat_minor": 5
}
