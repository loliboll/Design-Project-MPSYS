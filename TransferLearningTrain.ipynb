{
 "cells": [
  {
   "cell_type": "code",
   "execution_count": null,
   "id": "b8816f44",
   "metadata": {},
   "outputs": [],
   "source": [
    "from keras_segmentation.models.model_utils import transfer_weights\n",
    "from keras_segmentation.pretrained import pspnet_101_cityscapes\n",
    "from keras_segmentation.models.pspnet import pspnet_101\n",
    "\n",
    "pretrained_model = pspnet_101_cityscapes()\n",
    "\n",
    "new_model = pspnet_101(  n_classes=7)\n",
    "\n",
    "transfer_weights( pretrained_model , new_model  ) # transfer weights from pre-trained model to your model\n",
    "\n",
    "new_model.train(\n",
    "    train_images =  \"ImagesFolder/\",\n",
    "    train_annotations = \"AnnotationsFolder/\",\n",
    "    epochs=5\n",
    ")"
   ]
  },
  {
   "cell_type": "code",
   "execution_count": null,
   "id": "e55dec93",
   "metadata": {},
   "outputs": [],
   "source": []
  }
 ],
 "metadata": {
  "kernelspec": {
   "display_name": "Python 3 (ipykernel)",
   "language": "python",
   "name": "python3"
  },
  "language_info": {
   "codemirror_mode": {
    "name": "ipython",
    "version": 3
   },
   "file_extension": ".py",
   "mimetype": "text/x-python",
   "name": "python",
   "nbconvert_exporter": "python",
   "pygments_lexer": "ipython3",
   "version": "3.9.12"
  }
 },
 "nbformat": 4,
 "nbformat_minor": 5
}
