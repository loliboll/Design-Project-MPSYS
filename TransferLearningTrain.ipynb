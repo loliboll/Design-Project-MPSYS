{
 "cells": [
  {
   "cell_type": "code",
   "execution_count": 2,
   "id": "25a9917b",
   "metadata": {},
   "outputs": [
    {
     "name": "stdout",
     "output_type": "stream",
     "text": [
      "[name: \"/device:CPU:0\"\n",
      "device_type: \"CPU\"\n",
      "memory_limit: 268435456\n",
      "locality {\n",
      "}\n",
      "incarnation: 14249691820421000975\n",
      ", name: \"/device:GPU:0\"\n",
      "device_type: \"GPU\"\n",
      "memory_limit: 7787773952\n",
      "locality {\n",
      "  bus_id: 1\n",
      "  links {\n",
      "  }\n",
      "}\n",
      "incarnation: 10103474683894503967\n",
      "physical_device_desc: \"device: 0, name: NVIDIA GeForce RTX 3080, pci bus id: 0000:01:00.0, compute capability: 8.6\"\n",
      "]\n"
     ]
    }
   ],
   "source": [
    "#!pip install keras-segmentation\n",
    "#!pip install tensorflow-gpu\n",
    "#print(\"Num GPUs Available: \", len(tf.config.list_physical_devices('GPU')))\n",
    "from tensorflow.python.client import device_lib\n",
    "print(device_lib.list_local_devices())"
   ]
  },
  {
   "cell_type": "markdown",
   "id": "22f3a099",
   "metadata": {},
   "source": [
    "Training"
   ]
  },
  {
   "cell_type": "code",
   "execution_count": 2,
   "id": "b8816f44",
   "metadata": {},
   "outputs": [
    {
     "name": "stdout",
     "output_type": "stream",
     "text": [
      "Copying weights \n"
     ]
    },
    {
     "name": "stderr",
     "output_type": "stream",
     "text": [
      "412it [00:00, 1418.86it/s]\n"
     ]
    },
    {
     "name": "stdout",
     "output_type": "stream",
     "text": [
      "Copied weights of 222 layers and skipped 1 layers\n",
      "Verifying training dataset\n"
     ]
    },
    {
     "name": "stderr",
     "output_type": "stream",
     "text": [
      "100%|██████████| 400/400 [00:22<00:00, 17.97it/s]\n",
      "c:\\Users\\felix\\anaconda3\\envs\\tf-keras-gpu\\lib\\site-packages\\keras\\engine\\training.py:1972: UserWarning: `Model.fit_generator` is deprecated and will be removed in a future version. Please use `Model.fit`, which supports generators.\n",
      "  warnings.warn('`Model.fit_generator` is deprecated and '\n"
     ]
    },
    {
     "name": "stdout",
     "output_type": "stream",
     "text": [
      "Dataset verified! \n",
      "Epoch 1/5\n",
      "512/512 [==============================] - 139s 242ms/step - loss: 1.0203 - accuracy: 0.7404\n",
      "Epoch 2/5\n",
      "512/512 [==============================] - 121s 237ms/step - loss: 0.4971 - accuracy: 0.8847\n",
      "Epoch 3/5\n",
      "512/512 [==============================] - 125s 244ms/step - loss: 0.3527 - accuracy: 0.9124\n",
      "Epoch 4/5\n",
      "512/512 [==============================] - 146s 286ms/step - loss: 0.2672 - accuracy: 0.9343\n",
      "Epoch 5/5\n",
      "512/512 [==============================] - 126s 245ms/step - loss: 0.2110 - accuracy: 0.9502\n"
     ]
    }
   ],
   "source": [
    "from keras_segmentation.models.model_utils import transfer_weights\n",
    "from keras_segmentation.pretrained import pspnet_101_cityscapes\n",
    "from keras_segmentation.models.pspnet import pspnet_101\n",
    "\n",
    "pretrained_model = pspnet_101_cityscapes()\n",
    "\n",
    "new_model = pspnet_101(n_classes=7)\n",
    "\n",
    "transfer_weights( pretrained_model , new_model  ) # transfer weights from pre-trained model to your model\n",
    "\n",
    "new_model.train(\n",
    "    train_images =  \"ImagesFolder/\",\n",
    "    train_annotations = \"AnnotationsFolder/\",\n",
    "    epochs=5\n",
    ")"
   ]
  },
  {
   "cell_type": "code",
   "execution_count": 3,
   "id": "e55dec93",
   "metadata": {},
   "outputs": [
    {
     "name": "stdout",
     "output_type": "stream",
     "text": [
      "INFO:tensorflow:Assets written to: trained_model\\assets\n"
     ]
    },
    {
     "name": "stderr",
     "output_type": "stream",
     "text": [
      "c:\\Users\\felix\\anaconda3\\envs\\tf-keras-gpu\\lib\\site-packages\\keras\\utils\\generic_utils.py:494: CustomMaskWarning: Custom mask layers require a config and must override get_config. When loading, the custom mask layer must be passed to the custom_objects argument.\n",
      "  warnings.warn('Custom mask layers require a config and must override '\n"
     ]
    }
   ],
   "source": [
    "#new_model.save('trained_model')"
   ]
  },
  {
   "cell_type": "code",
   "execution_count": 2,
   "id": "e17292a9",
   "metadata": {},
   "outputs": [],
   "source": [
    "from tensorflow import keras\n",
    "model = keras.models.load_model('trained_model')\n"
   ]
  },
  {
   "cell_type": "code",
   "execution_count": null,
   "id": "0d22c1d5",
   "metadata": {},
   "outputs": [],
   "source": []
  }
 ],
 "metadata": {
  "kernelspec": {
   "display_name": "Python 3.9.15 ('tf-keras-gpu')",
   "language": "python",
   "name": "python3"
  },
  "language_info": {
   "codemirror_mode": {
    "name": "ipython",
    "version": 3
   },
   "file_extension": ".py",
   "mimetype": "text/x-python",
   "name": "python",
   "nbconvert_exporter": "python",
   "pygments_lexer": "ipython3",
   "version": "3.9.15"
  },
  "vscode": {
   "interpreter": {
    "hash": "334fc37056cd6a6f26974952af229a3abc34c2cd7f4396bb8e980c74e5c56039"
   }
  }
 },
 "nbformat": 4,
 "nbformat_minor": 5
}
