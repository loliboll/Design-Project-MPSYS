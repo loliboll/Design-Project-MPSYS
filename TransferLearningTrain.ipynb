{
 "cells": [
  {
   "cell_type": "code",
   "execution_count": null,
   "id": "25a9917b",
   "metadata": {},
   "outputs": [],
   "source": [
    "#!pip install keras-segmentation\n",
    "#!pip install tensorflow-gpu\n",
    "#print(\"Num GPUs Available: \", len(tf.config.list_physical_devices('GPU')))\n",
    "from tensorflow.python.client import device_lib\n",
    "print(device_lib.list_local_devices())"
   ]
  },
  {
   "cell_type": "markdown",
   "id": "22f3a099",
   "metadata": {},
   "source": [
    "Training"
   ]
  },
  {
   "cell_type": "code",
   "execution_count": 3,
   "id": "b8816f44",
   "metadata": {},
   "outputs": [
    {
     "name": "stdout",
     "output_type": "stream",
     "text": [
      "Copying weights \n"
     ]
    },
    {
     "name": "stderr",
     "output_type": "stream",
     "text": [
      "412it [00:00, 928.09it/s] \n"
     ]
    },
    {
     "name": "stdout",
     "output_type": "stream",
     "text": [
      "Copied weights of 222 layers and skipped 1 layers\n",
      "Verifying training dataset\n"
     ]
    },
    {
     "name": "stderr",
     "output_type": "stream",
     "text": [
      "100%|██████████| 400/400 [00:22<00:00, 17.49it/s]\n",
      "c:\\Users\\felix\\anaconda3\\envs\\tf-keras-gpu\\lib\\site-packages\\keras\\engine\\training.py:1972: UserWarning: `Model.fit_generator` is deprecated and will be removed in a future version. Please use `Model.fit`, which supports generators.\n",
      "  warnings.warn('`Model.fit_generator` is deprecated and '\n"
     ]
    },
    {
     "name": "stdout",
     "output_type": "stream",
     "text": [
      "Dataset verified! \n",
      "Epoch 1/7\n",
      "512/512 [==============================] - 141s 242ms/step - loss: 1.1287 - accuracy: 0.6984\n",
      "saved  checkpoints/.0\n",
      "Epoch 2/7\n",
      "512/512 [==============================] - 126s 245ms/step - loss: 0.5130 - accuracy: 0.8799\n",
      "saved  checkpoints/.1\n",
      "Epoch 3/7\n",
      "512/512 [==============================] - 161s 314ms/step - loss: 0.3626 - accuracy: 0.9098\n",
      "saved  checkpoints/.2\n",
      "Epoch 4/7\n",
      "512/512 [==============================] - 141s 276ms/step - loss: 0.2772 - accuracy: 0.9325\n",
      "saved  checkpoints/.3\n",
      "Epoch 5/7\n",
      "512/512 [==============================] - 126s 245ms/step - loss: 0.2202 - accuracy: 0.9480\n",
      "saved  checkpoints/.4\n",
      "Epoch 6/7\n",
      "512/512 [==============================] - 131s 255ms/step - loss: 0.1808 - accuracy: 0.9570\n",
      "saved  checkpoints/.5\n",
      "Epoch 7/7\n",
      "512/512 [==============================] - 136s 266ms/step - loss: 0.1504 - accuracy: 0.9639\n",
      "saved  checkpoints/.6\n"
     ]
    }
   ],
   "source": [
    "from keras_segmentation.models.model_utils import transfer_weights\n",
    "from keras_segmentation.pretrained import pspnet_101_cityscapes\n",
    "from keras_segmentation.models.pspnet import pspnet_101\n",
    "\n",
    "pretrained_model = pspnet_101_cityscapes()\n",
    "\n",
    "new_model = pspnet_101(n_classes=7)\n",
    "\n",
    "transfer_weights( pretrained_model , new_model  ) # transfer weights from pre-trained model to your model\n",
    "\n",
    "new_model.train(\n",
    "    train_images =  \"ImagesFolder/\",\n",
    "    train_annotations = \"AnnotationsFolder/\",\n",
    "    epochs=7\n",
    ")"
   ]
  },
  {
   "cell_type": "code",
   "execution_count": 5,
   "id": "e55dec93",
   "metadata": {},
   "outputs": [
    {
     "name": "stderr",
     "output_type": "stream",
     "text": [
      "c:\\Users\\felix\\anaconda3\\envs\\tf-keras-gpu\\lib\\site-packages\\keras\\utils\\generic_utils.py:494: CustomMaskWarning: Custom mask layers require a config and must override get_config. When loading, the custom mask layer must be passed to the custom_objects argument.\n",
      "  warnings.warn('Custom mask layers require a config and must override '\n"
     ]
    }
   ],
   "source": [
    "import tensorflow as tf\n",
    "tf.keras.models.save_model(new_model,'trained_model.hdf5')"
   ]
  },
  {
   "cell_type": "markdown",
   "id": "f193d7a7",
   "metadata": {},
   "source": [
    "Continue Training"
   ]
  },
  {
   "cell_type": "code",
   "execution_count": 1,
   "id": "15787fb5",
   "metadata": {},
   "outputs": [
    {
     "name": "stdout",
     "output_type": "stream",
     "text": [
      "Verifying training dataset\n"
     ]
    },
    {
     "name": "stderr",
     "output_type": "stream",
     "text": [
      "100%|██████████| 400/400 [00:19<00:00, 20.46it/s]\n",
      "c:\\Users\\felix\\anaconda3\\envs\\tf-keras-gpu\\lib\\site-packages\\keras\\engine\\training.py:1972: UserWarning: `Model.fit_generator` is deprecated and will be removed in a future version. Please use `Model.fit`, which supports generators.\n",
      "  warnings.warn('`Model.fit_generator` is deprecated and '\n"
     ]
    },
    {
     "name": "stdout",
     "output_type": "stream",
     "text": [
      "Dataset verified! \n",
      "Epoch 1/5\n",
      "512/512 [==============================] - 142s 246ms/step - loss: 0.1308 - accuracy: 0.9677\n",
      "Epoch 2/5\n",
      "512/512 [==============================] - 123s 241ms/step - loss: 0.1149 - accuracy: 0.9713\n",
      "Epoch 3/5\n",
      "512/512 [==============================] - 124s 242ms/step - loss: 0.1031 - accuracy: 0.9735\n",
      "Epoch 4/5\n",
      "512/512 [==============================] - 123s 241ms/step - loss: 0.0938 - accuracy: 0.9755\n",
      "Epoch 5/5\n",
      "512/512 [==============================] - 123s 241ms/step - loss: 0.0861 - accuracy: 0.9771\n"
     ]
    },
    {
     "name": "stderr",
     "output_type": "stream",
     "text": [
      "c:\\Users\\felix\\anaconda3\\envs\\tf-keras-gpu\\lib\\site-packages\\keras\\utils\\generic_utils.py:494: CustomMaskWarning: Custom mask layers require a config and must override get_config. When loading, the custom mask layer must be passed to the custom_objects argument.\n",
      "  warnings.warn('Custom mask layers require a config and must override '\n"
     ]
    }
   ],
   "source": [
    "from keras_segmentation.models.pspnet import pspnet_101\n",
    "\n",
    "model = pspnet_101(n_classes=7)\n",
    "model.load_weights('trained_model.hdf5')\n",
    "\n",
    "model.train(\n",
    "    train_images =  \"ImagesFolder/\",\n",
    "    train_annotations = \"AnnotationsFolder/\",\n",
    "    epochs=5\n",
    ")\n",
    "\n",
    "import tensorflow as tf\n",
    "tf.keras.models.save_model(model,'trained_model2.hdf5')"
   ]
  },
  {
   "cell_type": "code",
   "execution_count": null,
   "id": "e17292a9",
   "metadata": {},
   "outputs": [],
   "source": [
    "from keras_segmentation.models.pspnet import pspnet_101\n",
    "\n",
    "model = pspnet_101(n_classes=7)\n",
    "model.load_weights('trained_model.hdf5')\n",
    "\n",
    "\n",
    "\n",
    "out = model.predict_segmentation(\n",
    "    #inp=r\"C:\\Users\\Aggla\\Downloads\\An96fHl9kxXFilwgMeifVWbi1ASZ1C7frjGDnxKiKyf8T0P-S2Fl8Hqjqusi3VQNHBY3hs-1ZrZ1Jb0iz7h7wD-OLGByBoyjgN_i60D7qc4l3uJUszys8q5bpA\\Europe\\W44CKHfkF4GYfRd_zLTbKw.jpg\",\n",
    "    out_fname=\"output.png\"\n",
    ")\n"
   ]
  }
 ],
 "metadata": {
  "kernelspec": {
   "display_name": "Python 3.9.15 ('tf-keras-gpu')",
   "language": "python",
   "name": "python3"
  },
  "language_info": {
   "codemirror_mode": {
    "name": "ipython",
    "version": 3
   },
   "file_extension": ".py",
   "mimetype": "text/x-python",
   "name": "python",
   "nbconvert_exporter": "python",
   "pygments_lexer": "ipython3",
   "version": "3.9.15"
  },
  "vscode": {
   "interpreter": {
    "hash": "334fc37056cd6a6f26974952af229a3abc34c2cd7f4396bb8e980c74e5c56039"
   }
  }
 },
 "nbformat": 4,
 "nbformat_minor": 5
}
